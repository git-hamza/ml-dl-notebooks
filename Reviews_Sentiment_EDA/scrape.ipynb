{
 "cells": [
  {
   "cell_type": "code",
   "execution_count": 1,
   "id": "b15d9eb1-92b6-44cf-9828-37fb8b505bde",
   "metadata": {},
   "outputs": [],
   "source": [
    "import requests\n",
    "from bs4 import BeautifulSoup\n",
    "import pandas as pd"
   ]
  },
  {
   "cell_type": "code",
   "execution_count": 2,
   "id": "3f7402fd-b805-4a63-831c-b27ef1a39923",
   "metadata": {},
   "outputs": [],
   "source": [
    "site = \"wineaccess\"\n",
    "data = []\n",
    "# Set Trustpilot page numbers to scrape here\n",
    "from_page = 1\n",
    "to_page = 34\n",
    "\n",
    "for i in range(from_page, to_page + 1):\n",
    "    response = requests.get(f\"https://uk.trustpilot.com/review/wineaccess.com?page={i}\")\n",
    "    web_page = response.text\n",
    "    soup = BeautifulSoup(web_page, \"html.parser\")\n",
    "\n",
    "    for e in soup.select('article'):\n",
    "            data.append({\n",
    "                'site': site,\n",
    "                'location':e.select_one('[data-consumer-country-typography]').text.split(\"<span>\")[0],\n",
    "                'review_title':e.h2.text,\n",
    "                'review_date_original': e.select_one('[data-service-review-date-of-experience-typography]').text.split(': ')[-1],\n",
    "                'review_rating':e.select_one('[data-service-review-rating] img').get('alt'),\n",
    "                'review_text': e.select_one('[data-service-review-text-typography]').text if e.select_one('[data-service-review-text-typography]') else None\n",
    "            })\n",
    "\n",
    "df = pd.DataFrame(data)\n",
    "df.to_csv(f\"{site}.csv\", sep='\\t',index=False)"
   ]
  },
  {
   "cell_type": "code",
   "execution_count": null,
   "id": "6906d699-b43d-4b5d-88ae-6a62ac289a5c",
   "metadata": {},
   "outputs": [],
   "source": [
    "data"
   ]
  },
  {
   "cell_type": "code",
   "execution_count": null,
   "id": "0ae0f1a5-7ddb-4cc3-be38-d84d3430993b",
   "metadata": {},
   "outputs": [],
   "source": []
  }
 ],
 "metadata": {
  "kernelspec": {
   "display_name": "Python 3 (ipykernel)",
   "language": "python",
   "name": "python3"
  },
  "language_info": {
   "codemirror_mode": {
    "name": "ipython",
    "version": 3
   },
   "file_extension": ".py",
   "mimetype": "text/x-python",
   "name": "python",
   "nbconvert_exporter": "python",
   "pygments_lexer": "ipython3",
   "version": "3.8.10"
  }
 },
 "nbformat": 4,
 "nbformat_minor": 5
}
