{
 "cells": [
  {
   "cell_type": "markdown",
   "id": "fa7933ff",
   "metadata": {},
   "source": [
    "This is a binary classification transfer learning template with wandb support. The code and dataset is uploaded to wandb as artifacts while configuration parameters and other important metrics are also logged to your wandb account which you can see in the web."
   ]
  },
  {
   "cell_type": "markdown",
   "id": "d429959b",
   "metadata": {},
   "source": [
    "## Importing Packages"
   ]
  },
  {
   "cell_type": "code",
   "execution_count": null,
   "id": "8bcc814c",
   "metadata": {},
   "outputs": [],
   "source": [
    "import warnings\n",
    "warnings.filterwarnings('ignore')"
   ]
  },
  {
   "cell_type": "code",
   "execution_count": null,
   "id": "c1735dd2",
   "metadata": {},
   "outputs": [],
   "source": [
    "import os\n",
    "import numpy as np\n",
    "import pandas\n",
    "import matplotlib.pyplot as plt\n",
    "import wandb\n",
    "from wandb.keras import WandbCallback\n",
    "from sklearn.metrics import classification_report, confusion_matrix, ConfusionMatrixDisplay"
   ]
  },
  {
   "cell_type": "code",
   "execution_count": null,
   "id": "374720c2",
   "metadata": {},
   "outputs": [],
   "source": [
    "from tensorflow.keras.applications.efficientnet_v2 import EfficientNetV2S\n",
    "from tensorflow.keras.layers import GlobalAveragePooling2D, Dense, Dropout, Flatten\n",
    "from tensorflow.keras import Model\n",
    "from tensorflow.keras.optimizers import Adam, SGD\n",
    "from tensorflow.keras.preprocessing.image import ImageDataGenerator\n",
    "from tensorflow.keras.callbacks import ModelCheckpoint"
   ]
  },
  {
   "cell_type": "markdown",
   "id": "86722d6a",
   "metadata": {},
   "source": [
    "## Parameters Selection"
   ]
  },
  {
   "cell_type": "code",
   "execution_count": null,
   "id": "80fd22b5",
   "metadata": {},
   "outputs": [],
   "source": [
    "# Parameters\n",
    "input_shape = (140,80,3) #input shape for rgb images, incase of grayscale provide (h,w,1)\n",
    "num_classes = 2 # number of classes i.e. folders in your dataset\n",
    "color_mode = \"rgb\" if input_shape[-1]==3 else \"grayscale\""
   ]
  },
  {
   "cell_type": "code",
   "execution_count": null,
   "id": "7c4e1132",
   "metadata": {},
   "outputs": [],
   "source": [
    "#Hyper parameters\n",
    "batch_size=64\n",
    "fc_layer_neuron = 2048\n",
    "dropout_rate = 0.3\n",
    "epochs = 10\n",
    "optimizer = \"adam\" #can be adam or sgd\n",
    "learning_rate = 0.001\n",
    "starting_layer = \"flatten\" #can be flatten or globalavgpool"
   ]
  },
  {
   "cell_type": "markdown",
   "id": "62c87535",
   "metadata": {},
   "source": [
    "## Splitting Dataset into Train/Val/Test directories"
   ]
  },
  {
   "cell_type": "code",
   "execution_count": null,
   "id": "d678acc8",
   "metadata": {},
   "outputs": [],
   "source": [
    "# #splitting dataset\n",
    "# import splitfolders\n",
    "# splitfolders.ratio('raw_data', output=\"dataset\", seed=1337, ratio=(.8, 0.1,0.1)) "
   ]
  },
  {
   "cell_type": "markdown",
   "id": "68d9b73d",
   "metadata": {},
   "source": [
    "## Initialize wandb"
   ]
  },
  {
   "cell_type": "code",
   "execution_count": null,
   "id": "99ea23f7",
   "metadata": {},
   "outputs": [],
   "source": [
    "#provide your wandb data to launch the run\n",
    "# save_code flag save the notebook to wand\n",
    "wandb.init(project=\"test\", entity=\"user-name\", notes=\"test run\", save_code=True) "
   ]
  },
  {
   "cell_type": "markdown",
   "id": "1834e734",
   "metadata": {},
   "source": [
    "## Loading Dataset"
   ]
  },
  {
   "cell_type": "code",
   "execution_count": null,
   "id": "61ee8a87",
   "metadata": {},
   "outputs": [],
   "source": [
    "main_dir = \"dataset\"\n",
    "train_dir = os.path.join(main_dir, \"train\")\n",
    "val_dir = os.path.join(main_dir, \"val\")\n",
    "test_dir = os.path.join(main_dir, \"test\")"
   ]
  },
  {
   "cell_type": "markdown",
   "id": "01217637",
   "metadata": {},
   "source": [
    "### log data artifacts"
   ]
  },
  {
   "cell_type": "code",
   "execution_count": null,
   "id": "1920626b",
   "metadata": {},
   "outputs": [],
   "source": [
    "# raw data artifact\n",
    "raw_data = wandb.Artifact(\"raw_data\", type=\"Dataset\")\n",
    "raw_data.add_dir(\"raw_data\")\n",
    "wandb.log_artifact(raw_data)"
   ]
  },
  {
   "cell_type": "code",
   "execution_count": null,
   "id": "8666e0c5",
   "metadata": {},
   "outputs": [],
   "source": [
    "# split data artifact\n",
    "split_data = wandb.Artifact(\"splitdata_80_10_10\", type=\"Dataset\")\n",
    "split_data.add_dir(main_dir)\n",
    "wandb.log_artifact(split_data)"
   ]
  },
  {
   "cell_type": "markdown",
   "id": "6a461cd1",
   "metadata": {},
   "source": [
    "### Dataloader"
   ]
  },
  {
   "cell_type": "code",
   "execution_count": null,
   "id": "6ed604d9",
   "metadata": {},
   "outputs": [],
   "source": [
    "train_datagen = ImageDataGenerator(rescale=1./255,rotation_range=5, \n",
    "                               horizontal_flip=True, brightness_range=[0.8,1], \n",
    "                               zoom_range=0.1, shear_range=0.1)\n",
    "test_datagen = ImageDataGenerator(rescale=1./255)"
   ]
  },
  {
   "cell_type": "code",
   "execution_count": null,
   "id": "c3f11c66",
   "metadata": {},
   "outputs": [],
   "source": [
    "train_generator = train_datagen.flow_from_directory(\n",
    "                  directory=train_dir,\n",
    "                  target_size=input_shape[:2], # resize to this size\n",
    "                  color_mode=color_mode, # for coloured images\n",
    "                  batch_size=batch_size, # number of images to extract from folder for every batch\n",
    "                  class_mode=\"binary\", # classes to predict\n",
    "                  seed=42) # to make the result reproducible\n",
    "\n",
    "val_generator = test_datagen.flow_from_directory(directory=val_dir,\n",
    "                                                target_size=input_shape[:2],\n",
    "                                                batch_size=batch_size,\n",
    "                                                color_mode=color_mode,\n",
    "                                                class_mode=\"binary\")\n",
    "\n",
    "test_generator = test_datagen.flow_from_directory(directory=test_dir,\n",
    "                                                target_size=input_shape[:2],\n",
    "                                                batch_size=batch_size,\n",
    "                                                color_mode=color_mode,\n",
    "                                                class_mode=\"binary\",\n",
    "                                                 shuffle=False)"
   ]
  },
  {
   "cell_type": "code",
   "execution_count": null,
   "id": "54404b0d",
   "metadata": {},
   "outputs": [],
   "source": [
    "classes = list(train_generator.class_indices.keys())"
   ]
  },
  {
   "cell_type": "markdown",
   "id": "5c618bb8",
   "metadata": {},
   "source": [
    "### Visualizing some of the loaded samples"
   ]
  },
  {
   "cell_type": "code",
   "execution_count": null,
   "id": "8be52924",
   "metadata": {},
   "outputs": [],
   "source": [
    "fig, ax = plt.subplots(nrows=1, ncols=4, figsize=(15,15))\n",
    "\n",
    "for i in range(4):\n",
    "\n",
    "    # convert to unsigned integers for plotting\n",
    "    image, label = next(train_generator)\n",
    "    image = image * 255\n",
    "    image = image.astype('uint8')\n",
    "    # changing size from (1, 200, 200, 3) to (200, 200, 3) for plotting the image\n",
    "    image = np.squeeze(image)\n",
    "\n",
    "    # plot raw pixel data\n",
    "    ax[i].imshow(image[0])\n",
    "    ax[i].set_title(classes[int(label[0])])\n",
    "    ax[i].axis('off')"
   ]
  },
  {
   "cell_type": "markdown",
   "id": "e9113b1c",
   "metadata": {},
   "source": [
    "## Model Development"
   ]
  },
  {
   "cell_type": "code",
   "execution_count": null,
   "id": "374472b9",
   "metadata": {},
   "outputs": [],
   "source": [
    "\n",
    "starting_layer_after_conv = Flatten() if starting_layer==\"flatten\" else GlobalAveragePooling2D\n",
    "\n",
    "base_model = EfficientNetV2S(weights=\"imagenet\", input_shape=input_shape, include_top=False)\n",
    "base_model.trainable = False\n",
    "\n",
    "\n",
    "x = Flatten()(base_model.layers[-1].output)\n",
    "x = Dropout(dropout_rate)(x)\n",
    "x = Dense(fc_layer_neuron, activation=\"relu\")(x)\n",
    "x = Dropout(dropout_rate)(x)\n",
    "x = Dense(1, activation=\"sigmoid\")(x)\n",
    "model = Model(base_model.input,x)"
   ]
  },
  {
   "cell_type": "code",
   "execution_count": null,
   "id": "ec2b3df6",
   "metadata": {},
   "outputs": [],
   "source": [
    "model.summary()"
   ]
  },
  {
   "cell_type": "code",
   "execution_count": null,
   "id": "cb5aa79f",
   "metadata": {},
   "outputs": [],
   "source": [
    "optim = Adam(learning_rate=learning_rate) if optimizer==\"adam\" else SGD(learning_rate=learning_rate)\n",
    "loss = \"binary_crossentropy\"\n",
    "metric = \"accuracy\"\n",
    "\n",
    "model.compile(loss=loss, optimizer=optim, metrics=metric)"
   ]
  },
  {
   "cell_type": "code",
   "execution_count": null,
   "id": "f52fcae3",
   "metadata": {},
   "outputs": [],
   "source": [
    "# checkpoint callback\n",
    "checkpoint_filepath = \"checkpoint/model.ckpt\"\n",
    "model_checkpoint_callback = ModelCheckpoint(filepath=checkpoint_filepath, save_weights_only=True,\n",
    "    monitor='val_loss', mode='min',save_best_only=True)"
   ]
  },
  {
   "cell_type": "code",
   "execution_count": null,
   "id": "212f634b",
   "metadata": {},
   "outputs": [],
   "source": [
    "steps_per_epochs = len(train_generator)//batch_size\n",
    "model.fit(train_generator, epochs=epochs, \n",
    "          steps_per_epoch=steps_per_epochs, \n",
    "          validation_data=val_generator, callbacks=[WandbCallback(),model_checkpoint_callback])"
   ]
  },
  {
   "cell_type": "markdown",
   "id": "f88d69d6",
   "metadata": {},
   "source": [
    "## Model Evaluation"
   ]
  },
  {
   "cell_type": "code",
   "execution_count": null,
   "id": "e85a3c70",
   "metadata": {},
   "outputs": [],
   "source": [
    "model.load_weights(checkpoint_filepath)"
   ]
  },
  {
   "cell_type": "code",
   "execution_count": null,
   "id": "7e970b51",
   "metadata": {},
   "outputs": [],
   "source": [
    "test_loss, test_acc = model.evaluate(test_generator)\n",
    "print(f'Test loss: {test_loss:.4f}\\nTest accuracy: {test_acc*100:.4f}%')"
   ]
  },
  {
   "cell_type": "code",
   "execution_count": null,
   "id": "0e5ae7c5",
   "metadata": {},
   "outputs": [],
   "source": [
    "#logging wandb\n",
    "wandb.config.update({\"input_shape\": input_shape,\n",
    "                     \"num_classes\": num_classes,\n",
    "                     \"classes\": classes,\n",
    "                     \"color_mode\":color_mode,\n",
    "                     \"batch_size\": batch_size,\n",
    "                     \"epochs\": epochs,\n",
    "                     \"fc_layer_neuron\":fc_layer_neuron,\n",
    "                     \"dropout_rate\":dropout_rate,\n",
    "                     \"optimizer\": optimizer,\n",
    "                     \"learning_rate\": learning_rate,\n",
    "                     \"starting_layer\": starting_layer})\n",
    "\n",
    "wandb.log({\"test_loss\": test_loss, \"test_acc\": test_acc})"
   ]
  },
  {
   "cell_type": "markdown",
   "id": "79753172",
   "metadata": {},
   "source": [
    "### confusion matrix and classification report"
   ]
  },
  {
   "cell_type": "code",
   "execution_count": null,
   "id": "f384dee1",
   "metadata": {},
   "outputs": [],
   "source": [
    "Y_pred = model.predict(test_generator)\n",
    "Y_pred = np.where(Y_pred>0.6,1,0).reshape(Y_pred.shape[0],)"
   ]
  },
  {
   "cell_type": "code",
   "execution_count": null,
   "id": "10d4f25b",
   "metadata": {},
   "outputs": [],
   "source": [
    "# for wandb cm log\n",
    "cm = wandb.plot.confusion_matrix(\n",
    "    y_true=test_generator.classes,\n",
    "    preds=Y_pred,\n",
    "    class_names=classes)\n",
    "\n",
    "wandb.log({\"conf_mat\": cm})"
   ]
  },
  {
   "cell_type": "code",
   "execution_count": null,
   "id": "516e81fc",
   "metadata": {},
   "outputs": [],
   "source": [
    "# for local cm visualization\n",
    "cfn_mtx = confusion_matrix(test_generator.classes, Y_pred)\n",
    "disp = ConfusionMatrixDisplay(confusion_matrix=cfn_mtx, \n",
    "                              display_labels=classes)\n",
    "disp.plot()\n",
    "\n",
    "plt.show()"
   ]
  },
  {
   "cell_type": "code",
   "execution_count": null,
   "id": "24fbaade",
   "metadata": {},
   "outputs": [],
   "source": [
    "report = classification_report(test_generator.classes, Y_pred, target_names=classes, output_dict=True)\n",
    "print(report)"
   ]
  },
  {
   "cell_type": "code",
   "execution_count": null,
   "id": "a2c80070",
   "metadata": {},
   "outputs": [],
   "source": [
    "for key_ in list(report.keys())[:-3]:\n",
    "    wandb.log({key_: report[key_]})"
   ]
  },
  {
   "cell_type": "code",
   "execution_count": null,
   "id": "d4b6cbf7",
   "metadata": {},
   "outputs": [],
   "source": [
    "wandb.finish()"
   ]
  }
 ],
 "metadata": {
  "kernelspec": {
   "display_name": "Python 3 (ipykernel)",
   "language": "python",
   "name": "python3"
  },
  "language_info": {
   "codemirror_mode": {
    "name": "ipython",
    "version": 3
   },
   "file_extension": ".py",
   "mimetype": "text/x-python",
   "name": "python",
   "nbconvert_exporter": "python",
   "pygments_lexer": "ipython3",
   "version": "3.8.10"
  }
 },
 "nbformat": 4,
 "nbformat_minor": 5
}
